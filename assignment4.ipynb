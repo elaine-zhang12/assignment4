{
  "cells": [
    {
      "cell_type": "markdown",
      "id": "e0c7b14a-e5aa-4abc-b48b-b8a9d20dacac",
      "metadata": {
        "id": "e0c7b14a-e5aa-4abc-b48b-b8a9d20dacac"
      },
      "source": [
        "# Assignment #4: Linear Models and Decision Trees\n",
        "## Foundations of Machine Learning\n",
        "## Do Q1 and one other question.\n",
        "### Advice: Reuse your code and code from lectures, package routine tasks into functions, make plans about how you'll carry out the analysis before jumping into writing code, and work as efficiently as possible"
      ]
    },
    {
      "cell_type": "markdown",
      "id": "95f22300-0180-4ed2-be8f-ed56cf4cd36b",
      "metadata": {
        "id": "95f22300-0180-4ed2-be8f-ed56cf4cd36b"
      },
      "source": [
        "**Q1.** This question is a case study for linear models and decision trees. The data are about car prices. In particular, they include:\n",
        "\n",
        "  - `Price`, `Color`, `Seating_Capacity`\n",
        "  - `Body_Type`: crossover, hatchback, muv, sedan, suv\n",
        "  - `Make`, `Make_Year`: The brand of car and year produced\n",
        "  - `Mileage_Run`: The number of miles on the odometer\n",
        "  - `Fuel_Type`: Diesel or gasoline/petrol\n",
        "  - `Transmission`, `Transmission_Type`:  speeds and automatic/manual\n",
        "\n",
        "  1. Load `cars_hw.csv`. These data were really dirty, and I've already cleaned them a significant amount in terms of missing values and other issues, but some issues remain (e.g. outliers, badly scaled variables that require a log or arcsinh transformation). Clean the data however you think is most appropriate.\n",
        "  2. Summarize the `Price` variable and create a kernel density plot. Use `.groupby()` and `.describe()` to summarize prices by brand (`Make`). Make a grouped kernel density plot by `Make`. Which car brands are the most expensive? What do prices look like in general?\n",
        "  3. Split the data into an 80% training set and a 20% testing set.\n",
        "  4. Let's focus on linear models. Make a model where you regress price on the numeric variables alone; what is the $R^2$ and `RMSE` on the test set? Make a second model where, for the categorical variables, make a model comprised of one-hot encoded regressors/features alone, and regress price on those variables; what is the $R^2$ and `RMSE` on the test set? Which model performs better on the test set? Make a third model that combines all the regressors from the previous two; what is the $R^2$ and `RMSE` on the test set? Does the joint model perform better or worse, and by home much?\n",
        "  5. Use the `PolynomialFeatures` function from `sklearn` to expand the set of numerical variables you're using, along with the categorical variables. As you increase the degree of the expansion, how do the $R^2$ and `RMSE` change? At what point does $R^2$ go negative on the test set? For your best model with expanded features, what is the $R^2$ and `RMSE`? How does it compare to your best model from part 3?\n",
        "  6. For your best model so far, determine the predicted values for the test data and plot them against the true values. Do the predicted values and true values roughly line up along the diagonal, or not? Compute the residuals/errors for the test data and create a kernel density plot. Do the residuals look roughly bell-shaped around zero? Evaluate the strengths and weaknesses of your model.\n",
        "  7. Now, let's use a regression tree. Construct an appropriate matrix of regressors/features, and fit a tree to the data. Vary the maximum depth of the decision tree using the `max_depth` option (i.e. `tree.DecisionTreeRegressor(max_depth=D)`), and compute the $R^2$ and `RMSE` on the test set of a variety of depths. What depth tree gives the best results?\n",
        "  8. For your best tree, determine the predicted values for the test data, and plot them against the true values. Do the predicted values and true values line up along the diagonal, or not? Compute the residuals/errors for the test data and create a kernel density plot. Do the residuals look roughly bell-shaped around zero?\n",
        "  12. Which model --- linear model or classification and regression tree --- has better performance on the test set?"
      ]
    },
    {
      "cell_type": "markdown",
      "source": [
        "## Question 1"
      ],
      "metadata": {
        "id": "fu-lGtbdlAVA"
      },
      "id": "fu-lGtbdlAVA"
    },
    {
      "cell_type": "markdown",
      "source": [
        "### Part 1\n",
        "Load cars_hw.csv. These data were really dirty, and I've already cleaned them a significant amount in terms of missing values and other issues, but some issues remain (e.g. outliers, badly scaled variables that require a log or arcsinh transformation). Clean the data however you think is most appropriate."
      ],
      "metadata": {
        "id": "ExcGuBxVlE3p"
      },
      "id": "ExcGuBxVlE3p"
    },
    {
      "cell_type": "code",
      "source": [
        "# Question 1.1\n",
        "import pandas as pd\n",
        "import numpy as np\n",
        "import seaborn as sns\n",
        "import matplotlib.pyplot as plt\n",
        "\n",
        "car = pd.read_csv('cars_hw.csv')\n",
        "print(car.head())\n",
        "print(car.info())\n",
        "\n",
        "car['Price'].hist(bins=20)"
      ],
      "metadata": {
        "colab": {
          "base_uri": "https://localhost:8080/",
          "height": 1000
        },
        "id": "K-V38W2DjiW4",
        "outputId": "a28063d7-6077-487c-b612-20cc28beac85"
      },
      "id": "K-V38W2DjiW4",
      "execution_count": 2,
      "outputs": [
        {
          "output_type": "stream",
          "name": "stdout",
          "text": [
            "   Unnamed: 0        Make  Make_Year   Color  Body_Type  Mileage_Run  \\\n",
            "0           1  Volkswagen       2017  silver      sedan        44611   \n",
            "1           2     Hyundai       2016     red  crossover        20305   \n",
            "2           3       Honda       2019   white        suv        29540   \n",
            "3           4     Renault       2017  bronze  hatchback        35680   \n",
            "4           5     Hyundai       2017  orange  hatchback        25126   \n",
            "\n",
            "  No_of_Owners  Seating_Capacity Fuel_Type Transmission Transmission_Type  \\\n",
            "0          1st                 5    diesel      7-Speed         Automatic   \n",
            "1          1st                 5    petrol      5-Speed            Manual   \n",
            "2          2nd                 5    petrol      5-Speed            Manual   \n",
            "3          1st                 5    petrol      5-Speed            Manual   \n",
            "4          1st                 5    petrol      5-Speed            Manual   \n",
            "\n",
            "    Price  \n",
            "0  657000  \n",
            "1  682000  \n",
            "2  793000  \n",
            "3  414000  \n",
            "4  515000  \n",
            "<class 'pandas.core.frame.DataFrame'>\n",
            "RangeIndex: 976 entries, 0 to 975\n",
            "Data columns (total 12 columns):\n",
            " #   Column             Non-Null Count  Dtype \n",
            "---  ------             --------------  ----- \n",
            " 0   Unnamed: 0         976 non-null    int64 \n",
            " 1   Make               976 non-null    object\n",
            " 2   Make_Year          976 non-null    int64 \n",
            " 3   Color              976 non-null    object\n",
            " 4   Body_Type          976 non-null    object\n",
            " 5   Mileage_Run        976 non-null    int64 \n",
            " 6   No_of_Owners       976 non-null    object\n",
            " 7   Seating_Capacity   976 non-null    int64 \n",
            " 8   Fuel_Type          976 non-null    object\n",
            " 9   Transmission       976 non-null    object\n",
            " 10  Transmission_Type  976 non-null    object\n",
            " 11  Price              976 non-null    int64 \n",
            "dtypes: int64(5), object(7)\n",
            "memory usage: 91.6+ KB\n",
            "None\n"
          ]
        },
        {
          "output_type": "execute_result",
          "data": {
            "text/plain": [
              "<Axes: >"
            ]
          },
          "metadata": {},
          "execution_count": 2
        },
        {
          "output_type": "display_data",
          "data": {
            "text/plain": [
              "<Figure size 640x480 with 1 Axes>"
            ],
            "image/png": "[encoded data removed]"
          },
          "metadata": {}
        }
      ]
    },
    {
      "cell_type": "code",
      "source": [
        "# did not scale because scaling made the distribution worse\n",
        "car['Mileage_Run'].hist(bins=10)"
      ],
      "metadata": {
        "colab": {
          "base_uri": "https://localhost:8080/",
          "height": 448
        },
        "id": "YfFvA3BqkxsK",
        "outputId": "1c3ede25-2055-4930-b53d-25f197f7cd90"
      },
      "id": "YfFvA3BqkxsK",
      "execution_count": 3,
      "outputs": [
        {
          "output_type": "execute_result",
          "data": {
            "text/plain": [
              "<Axes: >"
            ]
          },
          "metadata": {},
          "execution_count": 3
        },
        {
          "output_type": "display_data",
          "data": {
            "text/plain": [
              "<Figure size 640x480 with 1 Axes>"
            ],
            "image/png": "[encoded data removed]"
          },
          "metadata": {}
        }
      ]
    },
    {
      "cell_type": "code",
      "source": [
        "car['price_arc'] = np.arcsinh(car['Price'])\n",
        "car['price_arc'].plot.box()"
      ],
      "metadata": {
        "colab": {
          "base_uri": "https://localhost:8080/",
          "height": 448
        },
        "id": "8tSRrIiokz8R",
        "outputId": "f5b1862a-279d-498e-f1ec-a63fce9c6dfe"
      },
      "id": "8tSRrIiokz8R",
      "execution_count": 4,
      "outputs": [
        {
          "output_type": "execute_result",
          "data": {
            "text/plain": [
              "<Axes: >"
            ]
          },
          "metadata": {},
          "execution_count": 4
        },
        {
          "output_type": "display_data",
          "data": {
            "text/plain": [
              "<Figure size 640x480 with 1 Axes>"
            ],
            "image/png": "[encoded data removed]"
          },
          "metadata": {}
        }
      ]
    },
    {
      "cell_type": "code",
      "source": [
        "# remove the outliers for price\n",
        "car = car.loc[car['price_arc']>13,:]\n",
        "car = car.loc[car['price_arc']<15.5,:]"
      ],
      "metadata": {
        "id": "pGwZVnWXlJ4v"
      },
      "id": "pGwZVnWXlJ4v",
      "execution_count": 5,
      "outputs": []
    },
    {
      "cell_type": "code",
      "source": [
        "# doing some extra cleaning\n",
        "car = car.drop(columns=['Unnamed: 0'])\n",
        "car['No_of_Owners'] = car['No_of_Owners'].replace({'1st': 1, '2nd': 2, '3rd': 3})"
      ],
      "metadata": {
        "id": "fbB7C318lclB"
      },
      "id": "fbB7C318lclB",
      "execution_count": 6,
      "outputs": []
    },
    {
      "cell_type": "markdown",
      "source": [
        "### Part 2\n",
        "Summarize the Price variable and create a kernel density plot. Use .groupby() and .describe() to summarize prices by brand (Make). Make a grouped kernel density plot by Make. Which car brands are the most expensive? What do prices look like in general?"
      ],
      "metadata": {
        "id": "6zYv6k2UqC9M"
      },
      "id": "6zYv6k2UqC9M"
    },
    {
      "cell_type": "code",
      "source": [
        "# when doing summaries and plots, assumed we should use the scaled Price variable\n",
        "car['price_arc'].describe()"
      ],
      "metadata": {
        "colab": {
          "base_uri": "https://localhost:8080/"
        },
        "id": "cbRNOhbpqEpu",
        "outputId": "09d7402a-9f4c-468f-b482-53fa18661352"
      },
      "id": "cbRNOhbpqEpu",
      "execution_count": 7,
      "outputs": [
        {
          "output_type": "execute_result",
          "data": {
            "text/plain": [
              "count    974.000000\n",
              "mean      14.103958\n",
              "std        0.446380\n",
              "min       13.068963\n",
              "25%       13.766845\n",
              "50%       14.102942\n",
              "75%       14.383944\n",
              "max       15.250595\n",
              "Name: price_arc, dtype: float64"
            ]
          },
          "metadata": {},
          "execution_count": 7
        }
      ]
    },
    {
      "cell_type": "code",
      "source": [
        "car.groupby('Make')['price_arc'].describe()"
      ],
      "metadata": {
        "colab": {
          "base_uri": "https://localhost:8080/",
          "height": 582
        },
        "id": "ReG1egw3r0Rj",
        "outputId": "09986ab1-022c-434f-b40a-e931d1286e73"
      },
      "id": "ReG1egw3r0Rj",
      "execution_count": 8,
      "outputs": [
        {
          "output_type": "execute_result",
          "data": {
            "text/plain": [
              "               count       mean       std        min        25%        50%  \\\n",
              "Make                                                                         \n",
              "Chevrolet        6.0  13.613042  0.480975  13.188151  13.261539  13.445433   \n",
              "Datsun           3.0  13.269194  0.036311  13.232114  13.251449  13.270783   \n",
              "Ford            52.0  14.161427  0.210895  13.270783  14.054527  14.162640   \n",
              "Honda           73.0  14.229465  0.336972  13.356645  13.965653  14.266586   \n",
              "Hyundai        305.0  14.061658  0.398781  13.114331  13.785051  14.059241   \n",
              "Jeep             4.0  14.909738  0.105084  14.763300  14.876417  14.933413   \n",
              "Kia              8.0  14.985324  0.076877  14.822738  14.965389  14.996253   \n",
              "MG Motors       35.0  15.132199  0.066263  14.971763  15.088892  15.122762   \n",
              "Mahindra        18.0  14.592100  0.159906  14.280502  14.544955  14.598828   \n",
              "Maruti Suzuki  293.0  13.911280  0.371409  13.068963  13.619496  13.868103   \n",
              "Nissan           4.0  14.334341  0.392610  13.764217  14.230922  14.481870   \n",
              "Renault         68.0  14.044009  0.331717  13.260385  13.764211  14.068542   \n",
              "Skoda            4.0  14.020662  0.507369  13.678545  13.728452  13.816925   \n",
              "Tata            22.0  14.477880  0.523224  13.077366  14.268173  14.369395   \n",
              "Toyota          50.0  14.228654  0.360112  13.508985  13.864561  14.396608   \n",
              "Volkswagen      29.0  13.987889  0.203839  13.597355  13.896168  14.009431   \n",
              "\n",
              "                     75%        max  \n",
              "Make                                 \n",
              "Chevrolet      13.864828  14.394369  \n",
              "Datsun         13.287734  13.304685  \n",
              "Ford           14.269131  14.572571  \n",
              "Honda          14.419827  14.938490  \n",
              "Hyundai        14.330727  15.063692  \n",
              "Jeep           14.966733  15.008827  \n",
              "Kia            15.042662  15.063117  \n",
              "MG Motors      15.190744  15.211260  \n",
              "Mahindra       14.654396  14.890513  \n",
              "Maruti Suzuki  14.239470  14.659661  \n",
              "Nissan         14.585290  14.609408  \n",
              "Renault        14.286754  14.660520  \n",
              "Skoda          14.109134  14.770252  \n",
              "Tata           14.987470  15.250595  \n",
              "Toyota         14.531374  14.596669  \n",
              "Volkswagen     14.150553  14.272935  "
            ],
            "text/html": [
              "\n",
              "  <div id=\"df-68007476-0374-4650-a1f7-29e0ab78f1a0\" class=\"colab-df-container\">\n",
              "    <div>\n",
              "<style scoped>\n",
              "    .dataframe tbody tr th:only-of-type {\n",
              "        vertical-align: middle;\n",
              "    }\n",
              "\n",
              "    .dataframe tbody tr th {\n",
              "        vertical-align: top;\n",
              "    }\n",
              "\n",
              "    .dataframe thead th {\n",
              "        text-align: right;\n",
              "    }\n",
              "</style>\n",
              "<table border=\"1\" class=\"dataframe\">\n",
              "  <thead>\n",
              "    <tr style=\"text-align: right;\">\n",
              "      <th></th>\n",
              "      <th>count</th>\n",
              "      <th>mean</th>\n",
              "      <th>std</th>\n",
              "      <th>min</th>\n",
              "      <th>25%</th>\n",
              "      <th>50%</th>\n",
              "      <th>75%</th>\n",
              "      <th>max</th>\n",
              "    </tr>\n",
              "    <tr>\n",
              "      <th>Make</th>\n",
              "      <th></th>\n",
              "      <th></th>\n",
              "      <th></th>\n",
              "      <th></th>\n",
              "      <th></th>\n",
              "      <th></th>\n",
              "      <th></th>\n",
              "      <th></th>\n",
              "    </tr>\n",
              "  </thead>\n",
              "  <tbody>\n",
              "    <tr>\n",
              "      <th>Chevrolet</th>\n",
              "      <td>6.0</td>\n",
              "      <td>13.613042</td>\n",
              "      <td>0.480975</td>\n",
              "      <td>13.188151</td>\n",
              "      <td>13.261539</td>\n",
              "      <td>13.445433</td>\n",
              "      <td>13.864828</td>\n",
              "      <td>14.394369</td>\n",
              "    </tr>\n",
              "    <tr>\n",
              "      <th>Datsun</th>\n",
              "      <td>3.0</td>\n",
              "      <td>13.269194</td>\n",
              "      <td>0.036311</td>\n",
              "      <td>13.232114</td>\n",
              "      <td>13.251449</td>\n",
              "      <td>13.270783</td>\n",
              "      <td>13.287734</td>\n",
              "      <td>13.304685</td>\n",
              "    </tr>\n",
              "    <tr>\n",
              "      <th>Ford</th>\n",
              "      <td>52.0</td>\n",
              "      <td>14.161427</td>\n",
              "      <td>0.210895</td>\n",
              "      <td>13.270783</td>\n",
              "      <td>14.054527</td>\n",
              "      <td>14.162640</td>\n",
              "      <td>14.269131</td>\n",
              "      <td>14.572571</td>\n",
              "    </tr>\n",
              "    <tr>\n",
              "      <th>Honda</th>\n",
              "      <td>73.0</td>\n",
              "      <td>14.229465</td>\n",
              "      <td>0.336972</td>\n",
              "      <td>13.356645</td>\n",
              "      <td>13.965653</td>\n",
              "      <td>14.266586</td>\n",
              "      <td>14.419827</td>\n",
              "      <td>14.938490</td>\n",
              "    </tr>\n",
              "    <tr>\n",
              "      <th>Hyundai</th>\n",
              "      <td>305.0</td>\n",
              "      <td>14.061658</td>\n",
              "      <td>0.398781</td>\n",
              "      <td>13.114331</td>\n",
              "      <td>13.785051</td>\n",
              "      <td>14.059241</td>\n",
              "      <td>14.330727</td>\n",
              "      <td>15.063692</td>\n",
              "    </tr>\n",
              "    <tr>\n",
              "      <th>Jeep</th>\n",
              "      <td>4.0</td>\n",
              "      <td>14.909738</td>\n",
              "      <td>0.105084</td>\n",
              "      <td>14.763300</td>\n",
              "      <td>14.876417</td>\n",
              "      <td>14.933413</td>\n",
              "      <td>14.966733</td>\n",
              "      <td>15.008827</td>\n",
              "    </tr>\n",
              "    <tr>\n",
              "      <th>Kia</th>\n",
              "      <td>8.0</td>\n",
              "      <td>14.985324</td>\n",
              "      <td>0.076877</td>\n",
              "      <td>14.822738</td>\n",
              "      <td>14.965389</td>\n",
              "      <td>14.996253</td>\n",
              "      <td>15.042662</td>\n",
              "      <td>15.063117</td>\n",
              "    </tr>\n",
              "    <tr>\n",
              "      <th>MG Motors</th>\n",
              "      <td>35.0</td>\n",
              "      <td>15.132199</td>\n",
              "      <td>0.066263</td>\n",
              "      <td>14.971763</td>\n",
              "      <td>15.088892</td>\n",
              "      <td>15.122762</td>\n",
              "      <td>15.190744</td>\n",
              "      <td>15.211260</td>\n",
              "    </tr>\n",
              "    <tr>\n",
              "      <th>Mahindra</th>\n",
              "      <td>18.0</td>\n",
              "      <td>14.592100</td>\n",
              "      <td>0.159906</td>\n",
              "      <td>14.280502</td>\n",
              "      <td>14.544955</td>\n",
              "      <td>14.598828</td>\n",
              "      <td>14.654396</td>\n",
              "      <td>14.890513</td>\n",
              "    </tr>\n",
              "    <tr>\n",
              "      <th>Maruti Suzuki</th>\n",
              "      <td>293.0</td>\n",
              "      <td>13.911280</td>\n",
              "      <td>0.371409</td>\n",
              "      <td>13.068963</td>\n",
              "      <td>13.619496</td>\n",
              "      <td>13.868103</td>\n",
              "      <td>14.239470</td>\n",
              "      <td>14.659661</td>\n",
              "    </tr>\n",
              "    <tr>\n",
              "      <th>Nissan</th>\n",
              "      <td>4.0</td>\n",
              "      <td>14.334341</td>\n",
              "      <td>0.392610</td>\n",
              "      <td>13.764217</td>\n",
              "      <td>14.230922</td>\n",
              "      <td>14.481870</td>\n",
              "      <td>14.585290</td>\n",
              "      <td>14.609408</td>\n",
              "    </tr>\n",
              "    <tr>\n",
              "      <th>Renault</th>\n",
              "      <td>68.0</td>\n",
              "      <td>14.044009</td>\n",
              "      <td>0.331717</td>\n",
              "      <td>13.260385</td>\n",
              "      <td>13.764211</td>\n",
              "      <td>14.068542</td>\n",
              "      <td>14.286754</td>\n",
              "      <td>14.660520</td>\n",
              "    </tr>\n",
              "    <tr>\n",
              "      <th>Skoda</th>\n",
              "      <td>4.0</td>\n",
              "      <td>14.020662</td>\n",
              "      <td>0.507369</td>\n",
              "      <td>13.678545</td>\n",
              "      <td>13.728452</td>\n",
              "      <td>13.816925</td>\n",
              "      <td>14.109134</td>\n",
              "      <td>14.770252</td>\n",
              "    </tr>\n",
              "    <tr>\n",
              "      <th>Tata</th>\n",
              "      <td>22.0</td>\n",
              "      <td>14.477880</td>\n",
              "      <td>0.523224</td>\n",
              "      <td>13.077366</td>\n",
              "      <td>14.268173</td>\n",
              "      <td>14.369395</td>\n",
              "      <td>14.987470</td>\n",
              "      <td>15.250595</td>\n",
              "    </tr>\n",
              "    <tr>\n",
              "      <th>Toyota</th>\n",
              "      <td>50.0</td>\n",
              "      <td>14.228654</td>\n",
              "      <td>0.360112</td>\n",
              "      <td>13.508985</td>\n",
              "      <td>13.864561</td>\n",
              "      <td>14.396608</td>\n",
              "      <td>14.531374</td>\n",
              "      <td>14.596669</td>\n",
              "    </tr>\n",
              "    <tr>\n",
              "      <th>Volkswagen</th>\n",
              "      <td>29.0</td>\n",
              "      <td>13.987889</td>\n",
              "      <td>0.203839</td>\n",
              "      <td>13.597355</td>\n",
              "      <td>13.896168</td>\n",
              "      <td>14.009431</td>\n",
              "      <td>14.150553</td>\n",
              "      <td>14.272935</td>\n",
              "    </tr>\n",
              "  </tbody>\n",
              "</table>\n",
              "</div>\n",
              "    <div class=\"colab-df-buttons\">\n",
              "\n",
              "  <div class=\"colab-df-container\">\n",
              "    <button class=\"colab-df-convert\" onclick=\"convertToInteractive('df-68007476-0374-4650-a1f7-29e0ab78f1a0')\"\n",
              "            title=\"Convert this dataframe to an interactive table.\"\n",
              "            style=\"display:none;\">\n",
              "\n",
              "  <svg xmlns=\"http://www.w3.org/2000/svg\" height=\"24px\" viewBox=\"0 -960 960 960\">\n",
              "    <path d=\"M120-120v-720h720v720H120Zm60-500h600v-160H180v160Zm220 220h160v-160H400v160Zm0 220h160v-160H400v160ZM180-400h160v-160H180v160Zm440 0h160v-160H620v160ZM180-180h160v-160H180v160Zm440 0h160v-160H620v160Z\"/>\n",
              "  </svg>\n",
              "    </button>\n",
              "\n",
              "  <style>\n",
              "    .colab-df-container {\n",
              "      display:flex;\n",
              "      gap: 12px;\n",
              "    }\n",
              "\n",
              "    .colab-df-convert {\n",
              "      background-color: #E8F0FE;\n",
              "      border: none;\n",
              "      border-radius: 50%;\n",
              "      cursor: pointer;\n",
              "      display: none;\n",
              "      fill: #1967D2;\n",
              "      height: 32px;\n",
              "      padding: 0 0 0 0;\n",
              "      width: 32px;\n",
              "    }\n",
              "\n",
              "    .colab-df-convert:hover {\n",
              "      background-color: #E2EBFA;\n",
              "      box-shadow: 0px 1px 2px rgba(60, 64, 67, 0.3), 0px 1px 3px 1px rgba(60, 64, 67, 0.15);\n",
              "      fill: #174EA6;\n",
              "    }\n",
              "\n",
              "    .colab-df-buttons div {\n",
              "      margin-bottom: 4px;\n",
              "    }\n",
              "\n",
              "    [theme=dark] .colab-df-convert {\n",
              "      background-color: #3B4455;\n",
              "      fill: #D2E3FC;\n",
              "    }\n",
              "\n",
              "    [theme=dark] .colab-df-convert:hover {\n",
              "      background-color: #434B5C;\n",
              "      box-shadow: 0px 1px 3px 1px rgba(0, 0, 0, 0.15);\n",
              "      filter: drop-shadow(0px 1px 2px rgba(0, 0, 0, 0.3));\n",
              "      fill: #FFFFFF;\n",
              "    }\n",
              "  </style>\n",
              "\n",
              "    <script>\n",
              "      const buttonEl =\n",
              "        document.querySelector('#df-68007476-0374-4650-a1f7-29e0ab78f1a0 button.colab-df-convert');\n",
              "      buttonEl.style.display =\n",
              "        google.colab.kernel.accessAllowed ? 'block' : 'none';\n",
              "\n",
              "      async function convertToInteractive(key) {\n",
              "        const element = document.querySelector('#df-68007476-0374-4650-a1f7-29e0ab78f1a0');\n",
              "        const dataTable =\n",
              "          await google.colab.kernel.invokeFunction('convertToInteractive',\n",
              "                                                    [key], {});\n",
              "        if (!dataTable) return;\n",
              "\n",
              "        const docLinkHtml = 'Like what you see? Visit the ' +\n",
              "          '<a target=\"_blank\" href=https://colab.research.google.com/notebooks/data_table.ipynb>data table notebook</a>'\n",
              "          + ' to learn more about interactive tables.';\n",
              "        element.innerHTML = '';\n",
              "        dataTable['output_type'] = 'display_data';\n",
              "        await google.colab.output.renderOutput(dataTable, element);\n",
              "        const docLink = document.createElement('div');\n",
              "        docLink.innerHTML = docLinkHtml;\n",
              "        element.appendChild(docLink);\n",
              "      }\n",
              "    </script>\n",
              "  </div>\n",
              "\n",
              "\n",
              "<div id=\"df-8ca77100-fc22-49f5-a7d2-f7b0af47bc4d\">\n",
              "  <button class=\"colab-df-quickchart\" onclick=\"quickchart('df-8ca77100-fc22-49f5-a7d2-f7b0af47bc4d')\"\n",
              "            title=\"Suggest charts\"\n",
              "            style=\"display:none;\">\n",
              "\n",
              "<svg xmlns=\"http://www.w3.org/2000/svg\" height=\"24px\"viewBox=\"0 0 24 24\"\n",
              "     width=\"24px\">\n",
              "    <g>\n",
              "        <path d=\"M19 3H5c-1.1 0-2 .9-2 2v14c0 1.1.9 2 2 2h14c1.1 0 2-.9 2-2V5c0-1.1-.9-2-2-2zM9 17H7v-7h2v7zm4 0h-2V7h2v10zm4 0h-2v-4h2v4z\"/>\n",
              "    </g>\n",
              "</svg>\n",
              "  </button>\n",
              "\n",
              "<style>\n",
              "  .colab-df-quickchart {\n",
              "      --bg-color: #E8F0FE;\n",
              "      --fill-color: #1967D2;\n",
              "      --hover-bg-color: #E2EBFA;\n",
              "      --hover-fill-color: #174EA6;\n",
              "      --disabled-fill-color: #AAA;\n",
              "      --disabled-bg-color: #DDD;\n",
              "  }\n",
              "\n",
              "  [theme=dark] .colab-df-quickchart {\n",
              "      --bg-color: #3B4455;\n",
              "      --fill-color: #D2E3FC;\n",
              "      --hover-bg-color: #434B5C;\n",
              "      --hover-fill-color: #FFFFFF;\n",
              "      --disabled-bg-color: #3B4455;\n",
              "      --disabled-fill-color: #666;\n",
              "  }\n",
              "\n",
              "  .colab-df-quickchart {\n",
              "    background-color: var(--bg-color);\n",
              "    border: none;\n",
              "    border-radius: 50%;\n",
              "    cursor: pointer;\n",
              "    display: none;\n",
              "    fill: var(--fill-color);\n",
              "    height: 32px;\n",
              "    padding: 0;\n",
              "    width: 32px;\n",
              "  }\n",
              "\n",
              "  .colab-df-quickchart:hover {\n",
              "    background-color: var(--hover-bg-color);\n",
              "    box-shadow: 0 1px 2px rgba(60, 64, 67, 0.3), 0 1px 3px 1px rgba(60, 64, 67, 0.15);\n",
              "    fill: var(--button-hover-fill-color);\n",
              "  }\n",
              "\n",
              "  .colab-df-quickchart-complete:disabled,\n",
              "  .colab-df-quickchart-complete:disabled:hover {\n",
              "    background-color: var(--disabled-bg-color);\n",
              "    fill: var(--disabled-fill-color);\n",
              "    box-shadow: none;\n",
              "  }\n",
              "\n",
              "  .colab-df-spinner {\n",
              "    border: 2px solid var(--fill-color);\n",
              "    border-color: transparent;\n",
              "    border-bottom-color: var(--fill-color);\n",
              "    animation:\n",
              "      spin 1s steps(1) infinite;\n",
              "  }\n",
              "\n",
              "  @keyframes spin {\n",
              "    0% {\n",
              "      border-color: transparent;\n",
              "      border-bottom-color: var(--fill-color);\n",
              "      border-left-color: var(--fill-color);\n",
              "    }\n",
              "    20% {\n",
              "      border-color: transparent;\n",
              "      border-left-color: var(--fill-color);\n",
              "      border-top-color: var(--fill-color);\n",
              "    }\n",
              "    30% {\n",
              "      border-color: transparent;\n",
              "      border-left-color: var(--fill-color);\n",
              "      border-top-color: var(--fill-color);\n",
              "      border-right-color: var(--fill-color);\n",
              "    }\n",
              "    40% {\n",
              "      border-color: transparent;\n",
              "      border-right-color: var(--fill-color);\n",
              "      border-top-color: var(--fill-color);\n",
              "    }\n",
              "    60% {\n",
              "      border-color: transparent;\n",
              "      border-right-color: var(--fill-color);\n",
              "    }\n",
              "    80% {\n",
              "      border-color: transparent;\n",
              "      border-right-color: var(--fill-color);\n",
              "      border-bottom-color: var(--fill-color);\n",
              "    }\n",
              "    90% {\n",
              "      border-color: transparent;\n",
              "      border-bottom-color: var(--fill-color);\n",
              "    }\n",
              "  }\n",
              "</style>\n",
              "\n",
              "  <script>\n",
              "    async function quickchart(key) {\n",
              "      const quickchartButtonEl =\n",
              "        document.querySelector('#' + key + ' button');\n",
              "      quickchartButtonEl.disabled = true;  // To prevent multiple clicks.\n",
              "      quickchartButtonEl.classList.add('colab-df-spinner');\n",
              "      try {\n",
              "        const charts = await google.colab.kernel.invokeFunction(\n",
              "            'suggestCharts', [key], {});\n",
              "      } catch (error) {\n",
              "        console.error('Error during call to suggestCharts:', error);\n",
              "      }\n",
              "      quickchartButtonEl.classList.remove('colab-df-spinner');\n",
              "      quickchartButtonEl.classList.add('colab-df-quickchart-complete');\n",
              "    }\n",
              "    (() => {\n",
              "      let quickchartButtonEl =\n",
              "        document.querySelector('#df-8ca77100-fc22-49f5-a7d2-f7b0af47bc4d button');\n",
              "      quickchartButtonEl.style.display =\n",
              "        google.colab.kernel.accessAllowed ? 'block' : 'none';\n",
              "    })();\n",
              "  </script>\n",
              "</div>\n",
              "    </div>\n",
              "  </div>\n"
            ]
          },
          "metadata": {},
          "execution_count": 8
        }
      ]
    },
    {
      "cell_type": "code",
      "source": [
        "# kernel density plot\n",
        "plt.figure(figsize=(10, 6))\n",
        "colors = ['red', 'blue', 'green', '#ff6663', 'orange', '#b27092', '#b27092', '#53599a', '#d65780', '#40f99b', '#b7adcf',\n",
        "          '#ffe74c', '#801a86', '#fa9f42', '#2d3047', '#4f646f']\n",
        "for i, make in enumerate(car['Make'].unique()):\n",
        "    sns.kdeplot(car[car['Make'] == make]['price_arc'], label=make, color=colors[i])\n",
        "plt.title('Grouped Kernel Density Plot for Price by Make')\n",
        "plt.xlabel('Price')\n",
        "plt.ylabel('Density')\n",
        "plt.legend()\n",
        "plt.show()"
      ],
      "metadata": {
        "colab": {
          "base_uri": "https://localhost:8080/",
          "height": 564
        },
        "id": "ph8wr7x1rVaC",
        "outputId": "52f566ff-8b32-45a4-80d9-7a9cb46763a2"
      },
      "id": "ph8wr7x1rVaC",
      "execution_count": 9,
      "outputs": [
        {
          "output_type": "display_data",
          "data": {
            "text/plain": [
              "<Figure size 1000x600 with 1 Axes>"
            ],
            "image/png": "[encoded data removed]"
          },
          "metadata": {}
        }
      ]
    },
    {
      "cell_type": "markdown",
      "source": [
        "The car brands that are the most expensive are Kia and MG Motors which can be seen by looking at the graph above towards the upper end of the price spectrum. Kia and MG Motors have their peaks furthest to the right with relatively high density, indicating that a majority of their cars are in that price range. But Kia also has a small sample size of only 8 and it might not be a good representation of Kia cars. In general, though, for other car brands, prices tend to sit around 14.0 and are more spreadout in range of the prices. This could also be due to the fact that car brands such as Hyundai have a much larger sample size, which creates a more spread out density plot."
      ],
      "metadata": {
        "id": "x9I_n9ORtaui"
      },
      "id": "x9I_n9ORtaui"
    },
    {
      "cell_type": "markdown",
      "source": [
        "### Part 3\n",
        "Split the data into an 80% training set and a 20% testing set."
      ],
      "metadata": {
        "id": "BhLdnqksqnop"
      },
      "id": "BhLdnqksqnop"
    },
    {
      "cell_type": "code",
      "source": [
        "from sklearn.model_selection import train_test_split\n",
        "\n",
        "X = car.drop(columns=['price_arc', 'Price'])\n",
        "y = car.loc[:, 'price_arc']\n",
        "X_train, X_test, y_train, y_test = train_test_split(X, y, test_size=0.2, random_state=42)"
      ],
      "metadata": {
        "id": "VucS5x1dDaGK"
      },
      "id": "VucS5x1dDaGK",
      "execution_count": 10,
      "outputs": []
    },
    {
      "cell_type": "markdown",
      "source": [
        "### Part 4\n",
        "Let's focus on linear models. Make a model where you regress price on the numeric variables alone; what is the  R2  and RMSE on the test set? Make a second model where, for the categorical variables, make a model comprised of one-hot encoded regressors/features alone, and regress price on those variables; what is the  R2  and RMSE on the test set? Which model performs better on the test set? Make a third model that combines all the regressors from the previous two; what is the  R2  and RMSE on the test set? Does the joint model perform better or worse, and by home much?"
      ],
      "metadata": {
        "id": "X-ojB80TqxVP"
      },
      "id": "X-ojB80TqxVP"
    },
    {
      "cell_type": "code",
      "source": [
        "from sklearn.linear_model import LinearRegression\n",
        "from sklearn.metrics import r2_score, mean_squared_error\n",
        "\n",
        "X_train_numeric = X_train.select_dtypes(include=['number'])\n",
        "X_test_numeric = X_test.select_dtypes(include=['number'])\n",
        "\n",
        "model = LinearRegression()\n",
        "model.fit(X_train_numeric, y_train)\n",
        "y_pred = model.predict(X_test_numeric)\n",
        "\n",
        "r2 = r2_score(y_test, y_pred)\n",
        "rmse = np.sqrt(mean_squared_error(y_test, y_pred))\n",
        "\n",
        "print(\"R-squared (R2):\", r2)\n",
        "print(\"Root Mean Squared Error (RMSE):\", rmse)"
      ],
      "metadata": {
        "id": "a83EH1546ykD",
        "outputId": "d48a88ec-4232-4a98-ca29-151574d88dba",
        "colab": {
          "base_uri": "https://localhost:8080/"
        }
      },
      "id": "a83EH1546ykD",
      "execution_count": 11,
      "outputs": [
        {
          "output_type": "stream",
          "name": "stdout",
          "text": [
            "R-squared (R2): 0.3665856857094715\n",
            "Root Mean Squared Error (RMSE): 0.345636989717336\n"
          ]
        }
      ]
    },
    {
      "cell_type": "code",
      "source": [
        "from sklearn.preprocessing import OneHotEncoder, FunctionTransformer\n",
        "from sklearn.compose import ColumnTransformer\n",
        "\n",
        "X_train_cat = X_train.select_dtypes(include=['object'])\n",
        "X_test_cat = X_test.select_dtypes(include=['object'])\n",
        "\n",
        "cat_attribs = list(X_train_cat)\n",
        "full_pipeline = ColumnTransformer([\n",
        "        (\"cat\", OneHotEncoder(handle_unknown='ignore'), cat_attribs)\n",
        "    ])\n",
        "\n",
        "X_train_cat_prepared = full_pipeline.fit_transform(X_train_cat)\n",
        "X_test_cat_prepared = full_pipeline.transform(X_test_cat)\n",
        "\n",
        "\n",
        "model = LinearRegression()\n",
        "model.fit(X_train_cat_prepared, y_train)\n",
        "y_pred = model.predict(X_test_cat_prepared)\n",
        "\n",
        "r2 = r2_score(y_test, y_pred)\n",
        "rmse = np.sqrt(mean_squared_error(y_test, y_pred))\n",
        "\n",
        "print(\"R-squared (R2):\", r2)\n",
        "print(\"Root Mean Squared Error (RMSE):\", rmse)"
      ],
      "metadata": {
        "id": "_MC1vmV6_iZz",
        "colab": {
          "base_uri": "https://localhost:8080/"
        },
        "outputId": "d3890d46-3f97-4a08-9c3a-4e44b9509036"
      },
      "id": "_MC1vmV6_iZz",
      "execution_count": 12,
      "outputs": [
        {
          "output_type": "stream",
          "name": "stdout",
          "text": [
            "R-squared (R2): 0.6042983061167575\n",
            "Root Mean Squared Error (RMSE): 0.27318712766600134\n"
          ]
        }
      ]
    },
    {
      "cell_type": "markdown",
      "source": [
        "The model that uses only categorical variables performs better on the test set than the model that uses only numerical variables. The numerical model has a R-squared of 0.37 while the categorical model has a R-squared of 0.604. A R-squared value that is closer to 1 indicates that the data fits well to the regression model. Furthermore, the root mean squared error was lower for the categorical model, meaning that it predicts on the test set better than the numerical model predicts on the test set."
      ],
      "metadata": {
        "id": "AX8vHYgivhd7"
      },
      "id": "AX8vHYgivhd7"
    },
    {
      "cell_type": "code",
      "source": [
        "from sklearn.pipeline import Pipeline\n",
        "from sklearn.impute import SimpleImputer\n",
        "X_train_cat = X_train.select_dtypes(include=['object'])\n",
        "X_train_num = X_train.select_dtypes(include=['number'])\n",
        "num_attribs = list(X_train_num)\n",
        "cat_attribs = list(X_train_cat)\n",
        "\n",
        "num_pipeline = Pipeline([('imputer', SimpleImputer(strategy='median'))])\n",
        "\n",
        "full_pipeline = ColumnTransformer([\n",
        "        ('num', num_pipeline, num_attribs),\n",
        "        (\"cat\", OneHotEncoder(handle_unknown='ignore'), cat_attribs)\n",
        "    ])\n",
        "\n",
        "X_train_prepared = full_pipeline.fit_transform(X_train)\n",
        "X_test_prepared = full_pipeline.transform(X_test)\n",
        "\n",
        "model = LinearRegression()\n",
        "model.fit(X_train_prepared, y_train)\n",
        "y_pred = model.predict(X_test_prepared)\n",
        "\n",
        "r2 = r2_score(y_test, y_pred)\n",
        "rmse = np.sqrt(mean_squared_error(y_test, y_pred))\n",
        "\n",
        "print(\"R-squared (R2):\", r2)\n",
        "print(\"Root Mean Squared Error (RMSE):\", rmse)"
      ],
      "metadata": {
        "colab": {
          "base_uri": "https://localhost:8080/"
        },
        "id": "oXe6D2EbvY3d",
        "outputId": "18690bae-b253-43e9-fdb8-5c32cd30f591"
      },
      "id": "oXe6D2EbvY3d",
      "execution_count": 13,
      "outputs": [
        {
          "output_type": "stream",
          "name": "stdout",
          "text": [
            "R-squared (R2): 0.7725822604376982\n",
            "Root Mean Squared Error (RMSE): 0.20710398072254213\n"
          ]
        }
      ]
    },
    {
      "cell_type": "markdown",
      "source": [
        "The joint model performs better by a good amount especially in how well the data fits to the regression model. The R-squared went from 0.604 up to 0.77, which is much closer to one. Furthermore, the rmse was lower by a bit indicating that the third model predicted the outcome of the test set better than both of the other models."
      ],
      "metadata": {
        "id": "mt156AAz8UiB"
      },
      "id": "mt156AAz8UiB"
    },
    {
      "cell_type": "markdown",
      "source": [
        "### Part 5\n",
        "Use the PolynomialFeatures function from sklearn to expand the set of numerical variables you're using, along with the categorical variables. As you increase the degree of the expansion, how do the  R2  and RMSE change? At what point does  R2  go negative on the test set? For your best model with expanded features, what is the  R2  and RMSE? How does it compare to your best model from part 3?"
      ],
      "metadata": {
        "id": "W6Wb5Anaq4tb"
      },
      "id": "W6Wb5Anaq4tb"
    },
    {
      "cell_type": "code",
      "source": [
        "from sklearn.preprocessing import PolynomialFeatures\n",
        "\n",
        "X_train_cat = X_train.select_dtypes(include=['object'])\n",
        "X_train_num = X_train.select_dtypes(include=['number'])\n",
        "num_attribs = list(X_train_num)\n",
        "cat_attribs = list(X_train_cat)\n",
        "\n",
        "for i in range(10):\n",
        "  print(\"Model\", i + 1)\n",
        "  num_pipeline = Pipeline([\n",
        "      ('poly', PolynomialFeatures(degree=i+1, include_bias=False)),])\n",
        "\n",
        "  full_pipeline = ColumnTransformer([\n",
        "          ('num', num_pipeline, num_attribs),\n",
        "          (\"cat\", OneHotEncoder(handle_unknown='ignore'), cat_attribs)\n",
        "      ])\n",
        "\n",
        "  X_train_prepared = full_pipeline.fit_transform(X_train)\n",
        "  X_test_prepared = full_pipeline.transform(X_test)\n",
        "\n",
        "  model = LinearRegression()\n",
        "  model.fit(X_train_prepared, y_train)\n",
        "  y_pred = model.predict(X_test_prepared)\n",
        "\n",
        "  r2 = r2_score(y_test, y_pred)\n",
        "  rmse = np.sqrt(mean_squared_error(y_test, y_pred))\n",
        "\n",
        "  print(\"R-squared (R2):\", r2)\n",
        "  print(\"Root Mean Squared Error (RMSE):\", rmse)"
      ],
      "metadata": {
        "id": "KCB8w0HOKMmE",
        "outputId": "6f91508a-4591-4052-f47c-11c5df2a0e77",
        "colab": {
          "base_uri": "https://localhost:8080/"
        }
      },
      "id": "KCB8w0HOKMmE",
      "execution_count": 16,
      "outputs": [
        {
          "output_type": "stream",
          "name": "stdout",
          "text": [
            "Model 1\n",
            "R-squared (R2): 0.7725822604376982\n",
            "Root Mean Squared Error (RMSE): 0.20710398072254213\n",
            "Model 2\n",
            "R-squared (R2): 0.804051333705987\n",
            "Root Mean Squared Error (RMSE): 0.19224162690468577\n",
            "Model 3\n",
            "R-squared (R2): 0.7184029105985885\n",
            "Root Mean Squared Error (RMSE): 0.23045724088185757\n",
            "Model 4\n",
            "R-squared (R2): 0.4367804808349862\n",
            "Root Mean Squared Error (RMSE): 0.3259230876474441\n",
            "Model 5\n",
            "R-squared (R2): -2.1148279185182224\n",
            "Root Mean Squared Error (RMSE): 0.7664667271519598\n",
            "Model 6\n",
            "R-squared (R2): 0.40491191587421005\n",
            "Root Mean Squared Error (RMSE): 0.3350170455307458\n",
            "Model 7\n",
            "R-squared (R2): 0.4105042288405494\n",
            "Root Mean Squared Error (RMSE): 0.33343917613475643\n",
            "Model 8\n",
            "R-squared (R2): 0.22358911061847753\n",
            "Root Mean Squared Error (RMSE): 0.38266794679209815\n",
            "Model 9\n",
            "R-squared (R2): 0.2571745543211512\n",
            "Root Mean Squared Error (RMSE): 0.37429985885004374\n",
            "Model 10\n",
            "R-squared (R2): 0.31378542611354243\n",
            "Root Mean Squared Error (RMSE): 0.3597545090433706\n"
          ]
        }
      ]
    },
    {
      "cell_type": "markdown",
      "source": [
        "As I increase the degree of expansion, there is not a clear pattern in how R-squared and rmse change. Intitally R-squared increases, then it decreases and becomes negative at degree=5, and then it increases, then decreases again. As for rmse, it does the opposite. It decreases, then increases and then decreases once again. The R-squared and rmse have an inverse relationship to one another.\n",
        "\n",
        "My best model was the one with a degree of 2. The R-squared for this was 0.804 and the rmse was 0.1992. This model performed better than my previous best model, which was the one that used both numerical and categorical data."
      ],
      "metadata": {
        "id": "GkAa4-_HMo48"
      },
      "id": "GkAa4-_HMo48"
    },
    {
      "cell_type": "markdown",
      "source": [
        "### Part 6\n",
        "For your best model so far, determine the predicted values for the test data and plot them against the true values. Do the predicted values and true values roughly line up along the diagonal, or not? Compute the residuals/errors for the test data and create a kernel density plot. Do the residuals look roughly bell-shaped around zero? Evaluate the strengths and weaknesses of your model."
      ],
      "metadata": {
        "id": "rRYKrqFaq71w"
      },
      "id": "rRYKrqFaq71w"
    },
    {
      "cell_type": "code",
      "source": [
        "X_train_cat = X_train.select_dtypes(include=['object'])\n",
        "X_train_num = X_train.select_dtypes(include=['number'])\n",
        "num_attribs = list(X_train_num)\n",
        "cat_attribs = list(X_train_cat)\n",
        "\n",
        "num_pipeline = Pipeline([\n",
        "      ('poly', PolynomialFeatures(degree=i+1, include_bias=False)),])\n",
        "\n",
        "full_pipeline = ColumnTransformer([\n",
        "        ('num', num_pipeline, num_attribs),\n",
        "        (\"cat\", OneHotEncoder(handle_unknown='ignore'), cat_attribs)\n",
        "    ])\n",
        "\n",
        "X_train_prepared = full_pipeline.fit_transform(X_train)\n",
        "X_test_prepared = full_pipeline.transform(X_test)\n",
        "\n",
        "model = LinearRegression()\n",
        "model.fit(X_train_prepared, y_train)\n",
        "y_pred = model.predict(X_test_prepared)\n",
        "\n",
        "r2 = r2_score(y_test, y_pred)\n",
        "rmse = np.sqrt(mean_squared_error(y_test, y_pred))\n",
        "\n",
        "print(\"R-squared (R2):\", r2)\n",
        "print(\"Root Mean Squared Error (RMSE):\", rmse)"
      ],
      "metadata": {
        "id": "oNioe_mdNqPY"
      },
      "id": "oNioe_mdNqPY",
      "execution_count": null,
      "outputs": []
    },
    {
      "cell_type": "markdown",
      "source": [
        "### Part 7\n",
        "Now, let's use a regression tree. Construct an appropriate matrix of regressors/features, and fit a tree to the data. Vary the maximum depth of the decision tree using the max_depth option (i.e. tree.DecisionTreeRegressor(max_depth=D)), and compute the  R2  and RMSE on the test set of a variety of depths. What depth tree gives the best results?"
      ],
      "metadata": {
        "id": "f79GKeiSq-km"
      },
      "id": "f79GKeiSq-km"
    },
    {
      "cell_type": "markdown",
      "source": [
        "### Part 8\n",
        "For your best tree, determine the predicted values for the test data, and plot them against the true values. Do the predicted values and true values line up along the diagonal, or not? Compute the residuals/errors for the test data and create a kernel density plot. Do the residuals look roughly bell-shaped around zero?"
      ],
      "metadata": {
        "id": "AXoXt7M5rHls"
      },
      "id": "AXoXt7M5rHls"
    },
    {
      "cell_type": "markdown",
      "source": [
        "### Part 9\n",
        "Which model --- linear model or classification and regression tree --- has better performance on the test set?"
      ],
      "metadata": {
        "id": "0fEPvDIlrJ8Y"
      },
      "id": "0fEPvDIlrJ8Y"
    },
    {
      "cell_type": "code",
      "source": [],
      "metadata": {
        "id": "FK0Bnj_4rGRa"
      },
      "id": "FK0Bnj_4rGRa",
      "execution_count": 14,
      "outputs": []
    },
    {
      "cell_type": "markdown",
      "id": "25bf83c6-ff44-42d6-9b33-8be1b945860d",
      "metadata": {
        "id": "25bf83c6-ff44-42d6-9b33-8be1b945860d"
      },
      "source": [
        "**Q2.** The is a question about regression using decision trees and linear models. The data include wages at data science-y jobs, including\n",
        "\n",
        "  - `Rating`: Company worker happiness score\n",
        "  - `Size`: Number of employees\n",
        "  - `Sector`: Part of the economy\n",
        "  - `avg_salary`: Average wage\n",
        "  - `job_state`: Location of work\n",
        "\n",
        "  1. Load the `wages_hw.csv` file. Split the sample into an ~80% training set and a ~20% test set. Do any necessary cleaning, including outliers and missings.\n",
        "  2. Use a linear model to regress `avg_salary` on `Sector`. Which sectors have the highest predicted wages? What is the $R^2$ and `RMSE` on the test set?\n",
        "  3. Make a scatterplot of `avg_salary` and `Rating`. Is there an obvious visual relationship between the two variables? Regress `avg_salary` on `Rating` as a numeric variable: Do higher ratings predict higher or lower wages? Convert `Rating` to a one-hot encoded variable, with a category for each rating. Run a regression of `avg_salary` on the categorical version. How do your results change? Explain. Which version has a higher $R^2$ and lower `RMSE`?\n",
        "  4. Now interact `Sector` with the categorical version of `Rating`, so your regressors are a (Sector, Rating) pair; this is a programming puzzle you'll have to think about, but using the `.PolynomialFeatures()` function on the one-hot encoded categorical variables is one option, and another is pre-processing a new variable that interacts `Sector` and `Rating` and then one-hot encoding the result. Regress `avg_salary` on the (Sector, Rating) pairs. How does the $R^2$ and `RMSE` on the test set compare to part 2? Interpret the coefficients; which sector-rating pairs have the highest wages?\n",
        "  5. Run a linear regression of `avg_salary` on all the variables. What is the $R^2$ on the test set? How does it compare to your simpler models in 2--4?\n",
        "  6. Build a decision tree by regressing `avg_salary` on `Sector`, `Rating`, and the (Sector, Rating) pairs. What are the $R^2$ and `RMSE` of your models on the test set? How do your answers compare to parts 2, 3, and 4?\n",
        "  7. Build a decision tree by regressing `avg_salary` on all the other variables. What is the $R^2$ and `RMSE` on the test set?\n",
        "  8. Build a linear regression or decision tree using the available variables based on your own judgment. What degrees of freedom are you giving the model to predict variation in wages across company and location attributes? What is the $R^2$ and `RMSE` of your model? How does it compare to the previous ones in the question? Why does yours perform better or worse on the test set?"
      ]
    },
    {
      "cell_type": "markdown",
      "id": "409519b9-e803-4a95-aded-d6eabf6bc526",
      "metadata": {
        "id": "409519b9-e803-4a95-aded-d6eabf6bc526"
      },
      "source": [
        "**Q3.** This a question purely on categorical prediction. The data for this happen to be gathered in 1987 in Indonesia, and concern contraceptive method choice. The questions and data-gathering assumptions reflect the culture and attitudes of that time and place, but provide a good example of a categorical prediction problem on an important topic (family planning and maternal health The variables in the data are:\n",
        "\n",
        "    - Wife's age (numerical)\n",
        "    - Wife's education (categorical) 1=low, 2, 3, 4=high\n",
        "    - Husband's education (categorical) 1=low, 2, 3, 4=high\n",
        "    - Number of children ever born (numerical)\n",
        "    - Wife's religion (binary) 0=Non-Islam, 1=Islam\n",
        "    - Wife's now working? (binary) 0=Yes, 1=No\n",
        "    - Husband's occupation (categorical) 1, 2, 3, 4\n",
        "    - Standard-of-living index (categorical) 1=low, 2, 3, 4=high\n",
        "    - Media exposure (binary) 0=Good, 1=Not good\n",
        "    - Contraceptive method used (class attribute) 1=No-use, 2=Long-term, 3=Short-termhort-term\n",
        "\n",
        "  1. Load the `contraceptiveMethodChoice.csv` data. Tabulate the `method` variable (i.e. `.value_counts()`). 1 corresponds to `No Contraception`, 3 corresponds to `Short Term` (e.g. condoms, birth control pills), and 2 corresponds to `Long Term` (e.g. IUD, sterilization). Cross tabulate `method` and `numberChildren`. Do couples that use birth control tend to have more children than those who don't?\n",
        "  2. Split the sample into ~80% training data and ~20% testing data.\n",
        "  3. We are now going to make a mistake. Train a regression tree to predict the contraceptive method using the other variables in the data, not a classification tree. Look at the terminal nodes in the tree: What values do they take? Does that make sense? Explain clearly what has gone wrong here.\n",
        "  4. Instead of regression, use a classification tree to predict contraceptive method using the other variables in the data. How does it look different from the previous tree? What variables does the algorithm use? In broad terms, which groups of people are most likely to use each method of contraception?\n",
        "  5. Compute a confusion matrix for your classification tree on the test set (Hint: There are now three categories instead of two, so the cross tabulation will be a $3 \\times 3$ matrix instead of $2 \\times 2$.). Compute the Accuracy of your model overall, and the Accuracy for predicting each contraceptive method.\n",
        "  7. Why can't you use a linear probability model to do this exercise? Explain clearly in words."
      ]
    },
    {
      "cell_type": "markdown",
      "id": "7bd15c6b-4c7c-4230-a199-e03e1054ec6a",
      "metadata": {
        "id": "7bd15c6b-4c7c-4230-a199-e03e1054ec6a"
      },
      "source": [
        "**Q4.** This is a question where we use regression and regression trees. The outcome is whether a defendant is held pre-trial in the Virginia justice system. We would like to understand how that outcome is predicted by characteristics of the defendant, particularly race. Let's be very careful/clear: We aren't saying anyone *should* be held without bond or asserting that people with different demographic variables *should* be more likely to be held, but instead trying to predict whether people with different characteristics *are empirically more likely* to be held without bond, given the available information. This is the first step we would take in investigating whether a system is fair, or how large the disparities are: Does it treat people with similar observable characteristics similarly, or not? We are going to look at a common question: Are Black defendants treated differently from white or Asian ones? (There are Native American defendants, but there are 11 in total, which is such a small number of observations that is difficult to clearly say anything about how this group is treated relative to the others.)\n",
        "\n",
        "The variables in the data are:\n",
        "\n",
        "  - `held_wo_bail`: Whether a defendant is held without bail before trial (Boolean logical)\n",
        "  - `race`, `sex`: Categorical demographic variables\n",
        "  - `is_poor`: Whether the defendant is classified as indigent\n",
        "  - `prior_F`, `prior_M`: The number of prior felony and misdemeanor arrests\n",
        "  - `case_type`: A categorical variable indicating a misdemeanor `M` or felony `F` or infraction `I` or special case `S`\n",
        "  - `age`: Defendant's age\n",
        "  - `bond`, `bond_NA`, `bond_type`: The amount of any bond, whether it is missing, and the type\n",
        "  - `sentence`, `sentence_NA`, `sentence_type`: The length of any sentence, whether it is missing, and the type\n",
        "\n",
        "1. Load the `pretrial_data.csv` data. Notice that there are `nan`s, but the data are relatively clean. Because there are `.nan`s among variables you won't use, you'll want to narrow down your analysis to the relevant variables before dropping or imputing missing values.\n",
        "2. Create a dummy variable indicating that the defendant is Black.\n",
        "3. Regress `held` on `Black`. What is the slope coefficient Interpret the coefficient on the Black dummy variable: How much more likely is a black person to be held without bail? What is the $R^2$ of the model?\n",
        "4. Before doing this question, please think for a few minutes about how to make the process of running these regressions as efficient as possible, before jumping into writing code. Repeat part 2, for the following specifications, keeping track of the coefficient on the Black dummy variable each time:\n",
        "      - `held` on `Black` and `sex`\n",
        "      - `held` on `Black` and `sex` and `is_poor`\n",
        "      - `held` on `Black` and `sex` and `is_poor` and `prior_F`\n",
        "      - `held` on `Black` and `sex` and `is_poor` and `prior_F` and `case_type`\n",
        "What happens to the coefficient on the Black dummy variable as you include more regressors/features/controls in the regression? Explain your findings.\n",
        "5. Suppose we don't want to see just `Black` and `sex`, but `Black` interacted with `sex`: Are Black men and Black women treated systemically differently from the rest of the population? Implement this in a regression, and explain your findings.\n",
        "6. Imagine someone argued we should use these kinds of models to help a judge or magistrate make bail decisions (you could obviously go back and make this kind of model for the bond and sentence variables, then deploy it on new cases to predict what their bond and sentence values would be). What concerns would you have? Do you think society should be using data-driven and automated tools like that? Explain your concerns clearly."
      ]
    },
    {
      "cell_type": "markdown",
      "id": "d0bedb79-b3d9-4db3-9b30-b92c9b618cec",
      "metadata": {
        "id": "d0bedb79-b3d9-4db3-9b30-b92c9b618cec"
      },
      "source": [
        "**Q5.** This is a math question to review the derivation of the OLS estimator (but only if you are into that kind of thing!). We are going to do it slightly differently from what we did in class, though. We will use a linear predictor and minimize the Sum of Squared Errors, just as in class. But, we are going to de-mean $X$ first, creating another variable $z_i = x_i - \\bar{x}$ where\n",
        "$$\n",
        "\\bar{x} = \\dfrac{1}{N} \\sum_{i=1}^N x_i,\n",
        "$$\n",
        "so the model is $\\hat{y}_i = a + b z_i$ and the `SSE` is\n",
        "$$\n",
        "\\text{SSE}(a,b) = \\sum_{i=1}^N (y_i - a - bz_i)^2.\n",
        "$$\n",
        "\n",
        "  1. Take partial derivatives of the `SSE` with respect to $a$ and $b$. You should get\n",
        "\n",
        "\\begin{eqnarray*}\n",
        "\\sum_{i=1}^N -2(y_i - a- bz_i) &=& 0 \\\\\n",
        "\\sum_{i=1}^N -2(y_i - a - bz_i)z_i &=& 0.\n",
        "\\end{eqnarray*}\n",
        "\n",
        "  2. Solve for the solutions to the above equations. Big hint: $\\bar{z} = 0$, since we subtracted the mean of $x$ from $x$ to get $z$. You should get\n",
        "\n",
        "\\begin{eqnarray*}\n",
        "a^* &=& \\bar{y} \\\\\n",
        "b^* &=& \\dfrac{\\sum_{i=1}^N(y_i - \\bar{y})z_i}{\\sum_{i=1}^N z_i^2}.\n",
        "\\end{eqnarray*}\n",
        "\n",
        "  3. Substitute $z_i = x_i - \\bar{x}$ back into the above equations. You should get\n",
        "  \n",
        "\\begin{eqnarray*}\n",
        "a^* &=& \\bar{y} \\\\\n",
        "b^* &=& \\dfrac{\\sum_{i=1}^N(y_i - \\bar{y})(x_i-\\bar{x})}{\\sum_{i=1}^N (x_i-\\bar{x})^2},\n",
        "\\end{eqnarray*}\n",
        "\n",
        "which can be written in terms of sample covariance and sample variance as:\n",
        "\n",
        "\\begin{eqnarray*}\n",
        "a^* &=& \\bar{y} \\\\\n",
        "b^* &=& \\dfrac{\\text{cov}(x,y)}{\\text{var}(x)}.\n",
        "\\end{eqnarray*}\n",
        "\n",
        "This is typically the preferred way of expressing the OLS coefficients.\n",
        "\n",
        "4. When will $b^*$ be large or small, depending on the relationship between $x$ and $y$ and the amount of \"noise\"/variance in $x$? What does $a^*$ represent?\n",
        "5. Suppose you have measurement error in $x$ which artificially inflates its variance (e.g. bad data cleaning). What happens to the $b^*$ coefficient? How will affect your ability to predict? (This phenomenon is called **attenuation**.)\n",
        "6. Let's return to the question of *outliers*. With your formula for the OLS coefficients $(a^*,b^*)$, explain what happens if you significantly increase a single value of the outcome/target/response variable $y_i$ or one of the predictor/explanatory/covariate variables $x_i$. If values for some extreme observations are exerting significant influence over the regression coefficients, will the model perform well on for more average observations?"
      ]
    }
  ],
  "metadata": {
    "kernelspec": {
      "display_name": "Python 3 (ipykernel)",
      "language": "python",
      "name": "python3"
    },
    "language_info": {
      "codemirror_mode": {
        "name": "ipython",
        "version": 3
      },
      "file_extension": ".py",
      "mimetype": "text/x-python",
      "name": "python",
      "nbconvert_exporter": "python",
      "pygments_lexer": "ipython3",
      "version": "3.11.4"
    },
    "colab": {
      "provenance": []
    }
  },
  "nbformat": 4,
  "nbformat_minor": 5
}